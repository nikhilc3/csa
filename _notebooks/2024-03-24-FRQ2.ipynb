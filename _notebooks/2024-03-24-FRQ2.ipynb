{
 "cells": [
  {
   "cell_type": "markdown",
   "metadata": {},
   "source": [
    "---\n",
    "layout: post\n",
    "title: FRQ2\n",
    "type: hacks\n",
    "courses: { 'csa': {'week':16} } \n",
    "---"
   ]
  },
  {
   "cell_type": "markdown",
   "metadata": {},
   "source": [
    "\n",
    "## Question 2\n",
    "\n"
   ]
  },
  {
   "cell_type": "code",
   "execution_count": null,
   "metadata": {},
   "outputs": [
    {
     "name": "stdout",
     "output_type": "stream",
     "text": [
      "Welcome to the Fantasy Basketball Word Guess Game!\n",
      "Try to guess the basketball-related word. (Hint: it's 5 letters and all caps)\n",
      "Take a shot and guess the word: Hint: D*++S\n",
      "Not quite, try again!\n",
      "Take a shot and guess the word: Hint: DUN*S\n",
      "Not quite, try again!\n",
      "Take a shot and guess the word: Hint: DUNKS\n",
      "Swish! That's correct! You've guessed the word!\n"
     ]
    }
   ],
   "source": [
    "import java.util.Scanner;\n",
    "\n",
    "public class BasketballWordGuess {\n",
    "    private String hiddenWord;\n",
    "\n",
    "    public BasketballWordGuess(String word) {\n",
    "        hiddenWord = word;\n",
    "    }\n",
    "\n",
    "    public String getHint(String guess) {\n",
    "        String hint = \"\";\n",
    "        for (int i = 0; i < guess.length(); i++) {\n",
    "            if (guess.charAt(i) == hiddenWord.charAt(i)) {\n",
    "                hint += guess.charAt(i);\n",
    "            } else if (hiddenWord.indexOf(guess.charAt(i)) >= 0) {\n",
    "                hint += \"+\";\n",
    "            } else {\n",
    "                hint += \"*\";\n",
    "            }\n",
    "        }\n",
    "        return hint;\n",
    "    }\n",
    "\n",
    "    public static void main(String[] args) {\n",
    "        BasketballWordGuess game = new BasketballWordGuess(\"DUNKS\");\n",
    "        Scanner scanner = new Scanner(System.in);\n",
    "\n",
    "        System.out.println(\"Welcome to the Fantasy Basketball Word Guess Game!\");\n",
    "        System.out.println(\"Try to guess the basketball-related word. (Hint: it's 5 letters and all caps)\");\n",
    "\n",
    "        boolean hasGuessedCorrectly = false;\n",
    "        while (!hasGuessedCorrectly) {\n",
    "            System.out.print(\"Take a shot and guess the word: \");\n",
    "            String userGuess = scanner.nextLine().toUpperCase();\n",
    "\n",
    "            String hint = game.getHint(userGuess);\n",
    "            System.out.println(\"Hint: \" + hint);\n",
    "\n",
    "            if (hint.equals(game.hiddenWord)) {\n",
    "                System.out.println(\"Swish! That's correct! You've guessed the word!\");\n",
    "                hasGuessedCorrectly = true;\n",
    "            } else {\n",
    "                System.out.println(\"Not quite, try again!\");\n",
    "            }\n",
    "        }\n",
    "        scanner.close();\n",
    "    }\n",
    "}\n",
    "\n",
    "BasketballWordGuess.main(null);\n"
   ]
  },
  {
   "cell_type": "markdown",
   "metadata": {},
   "source": [
    "The FRQ required the crafting of a Java class, which was an engaging exercise in applying the fundamentals of Java programming. The task was to encapsulate the essential elements of a class, including instance variables, constructors, and the pivotal getHint method within the HiddenWord class but in this case making it into a basketball theme. The most intellectually stimulating part was devising the logic for the getHint method. This involved constructing conditional statements to compare the player's guess with the actual hidden word and return a string with asterisks, letters, and plus signs accordingly.\n",
    "\n"
   ]
  }
 ],
 "metadata": {
  "kernelspec": {
   "display_name": "Java",
   "language": "java",
   "name": "java"
  },
  "language_info": {
   "name": "java",
   "version": "3.9.12"
  },
  "orig_nbformat": 4,
  "vscode": {
   "interpreter": {
    "hash": "b39cc0b7d7b7baa8a40a102196f269dabc963c0136c1c82ab9b0b53a6e35bbf2"
   }
  }
 },
 "nbformat": 4,
 "nbformat_minor": 2
}
