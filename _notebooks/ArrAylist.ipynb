{
 "cells": [
  {
   "cell_type": "markdown",
   "metadata": {},
   "source": [
    "---\n",
    "layout: default\n",
    "title: FRQ Array/ArrayList\n",
    "type: hacks\n",
    "courses: { 'csa': {'week':11} } \n",
    "---"
   ]
  },
  {
   "cell_type": "markdown",
   "metadata": {},
   "source": [
    "# Vaccination Timeline\n",
    "\n",
    "| Vaccine                  | Birth | 1 month | 2 months | 4 months | 6 months | 12 months | 15 months | 18 months | 19-23 months | 2-3 years | 4-6 years | 12-18 years | 50 years | 65 years |\n",
    "|--------------------------|-------|---------|----------|----------|----------|-----------|-----------|-----------|--------------|-----------|------------|-------------|----------|----------|\n",
    "| Hep A                    |       |         |          |          |          | 1st dose  |           |           |              |           |            |             |          |          |\n",
    "| Hep B                    |       |         | 1st dose | 2nd dose |          |           |           | 3rd dose  |              |           |            |             |          |          |\n",
    "| Measles, Mumps, Rubella (MMR) |       |         |          |          |          | 1st dose  |           |           | 2nd dose    |           |            |             |          |          |\n",
    "| Rotavirus                |       |         | 1st dose | 2nd dose | 3rd dose |           |           |           |              |           |            |             |          |          |\n",
    "| Haemophilus Influenzae type B |       |         | 1st dose | 2nd dose |          |           | 3rd dose  |           | 4th dose    |           |            |             |          |          |\n",
    "| Yellow Fever             |       |         |          |          |          |           | 1st dose  |           |              |           |            |             |          |          |\n",
    "| Smallpox                 |       |         |          |          |          |           |           | 1st dose  |              |           |            |             |          |          |\n",
    "| Inactivated Polio Virus  |       |         | 1st dose | 2nd dose |          |           |           | 3rd dose  |              |           |            |             |          |          |\n",
    "| Human Papillomavirus (HPV)|       |         |          |          |          |           |           |           |              | 1st dose  | 2nd dose   |             |          |          |\n",
    "| Varicella                |       |         |          |          |          | 1st dose  |           |           | 2nd dose    |           |            |             |          |          |\n",
    "| Meningococcal            |       |         |          |          |          |           |           |           | 1st dose    |           |            | 2nd dose    |          |          |\n",
    "| Diphtheria, Tetanus, Pertussis |       |         | 1st dose | 2nd dose | 3rd dose |           |           | 4th dose  |              |           | 5th dose   |             |          |          |\n",
    "| Pneumococcal             |       |         | 1st dose | 2nd dose | 3rd dose |           |           | 4th dose  |              |           |            |             |          |          |\n",
    "| Influenza                |       |         |          |          |          |           |           |           |              |           |            |             | Annual Dose | Annual Dose |\n",
    "| H1N1 Influenza           |       |         |          |          |          |           |           |           |              |           |            |             | Annual Dose | Annual Dose |\n"
   ]
  }
 ],
 "metadata": {
  "kernelspec": {
   "display_name": "Python 3.9.12 ('base')",
   "language": "python",
   "name": "python3"
  },
  "language_info": {
   "name": "python",
   "version": "3.9.12"
  },
  "orig_nbformat": 4,
  "vscode": {
   "interpreter": {
    "hash": "b39cc0b7d7b7baa8a40a102196f269dabc963c0136c1c82ab9b0b53a6e35bbf2"
   }
  }
 },
 "nbformat": 4,
 "nbformat_minor": 2
}
