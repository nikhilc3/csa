{
 "cells": [
  {
   "cell_type": "markdown",
   "metadata": {},
   "source": [
    "---\n",
    "layout: post\n",
    "title: Question9 \n",
    "type: hacks\n",
    "courses: { csa: {week: 9} }  \n",
    "---"
   ]
  },
  {
   "cell_type": "markdown",
   "metadata": {},
   "source": [
    "# Q9 College Board"
   ]
  },
  {
   "cell_type": "markdown",
   "metadata": {},
   "source": [
    "\n",
    "![Screenshot 2024-01-03 at 3 29 25 PM](https://github.com/nikhilc3/csa/assets/111464993/429c3f7a-a5b7-4503-802e-1b90a74a9dcc)"
   ]
  },
  {
   "cell_type": "markdown",
   "metadata": {},
   "source": [
    " `Math.random()` for Simulating Dice Rolls\n",
    "\n",
    "- `Math.random()` is used in programming to generate a random decimal between 0 and 1.\n",
    "\n",
    "### `Math.random()` Range\n",
    "- Multiplying `Math.random()` by 6 gives us what range? \n",
    "\n",
    "### Adjusting the Die Range\n",
    "- To get a die range of 1-6, we add 1 to the result of `Math.random() * 6`.\n",
    "\n",
    "### Simulating Two Dice\n",
    "- Rolling two dice means adding two `Math.random()` results together.\n",
    "\n",
    "### Process of Elimination\n",
    "- Incorrect options are eliminated based on the range and sum that do not match two dice rolls.\n",
    "\n",
    "### Conclusion\n",
    "- The correct code to simulate rolling two dice is option E: `2 + (int)(Math.random() * 6) + (int)(Math.random() * 6)`.\n"
   ]
  },
  {
   "cell_type": "markdown",
   "metadata": {},
   "source": [
    "## Steps/Process for Q9"
   ]
  },
  {
   "cell_type": "markdown",
   "metadata": {},
   "source": [
    "- `Math.random()` generates a number from 0 (inclusive) to 1 (exclusive).\n",
    "- To simulate a die roll, we need a range of 1-6, not 0-5.\n",
    "- Multiplying the `Math.random()` result by 6 gives a range of 0-5.\n",
    "- To adjust for the correct range of a die, we add 1 to the result.\n",
    "- We need to simulate rolling two dice and sum their values.\n",
    "- Using `int` truncates the decimal, giving us a whole number as expected when rolling dice.\n",
    "- Options A, B, and D were eliminated because they don't meet the criteria above.\n",
    "- Between options C and E, we choose E because it correctly adjusts the range from 0-5 to 1-6 by adding 1 to each die roll.\n",
    "- The process of elimination helped narrow down the options to the correct answer.\n"
   ]
  },
  {
   "cell_type": "markdown",
   "metadata": {},
   "source": [
    "# Hacks\n",
    "\n",
    "Code Q9 in java, where it rolls two dice, displays each dice and finds the sum of both of them, using Math.Random"
   ]
  },
  {
   "cell_type": "code",
   "execution_count": null,
   "metadata": {},
   "outputs": [],
   "source": [
    "public class DiceRollSimulator {\n",
    "\n",
    "    public static void main(String[] args) {\n",
    "        // finish the method\n",
    "    }\n",
    "}\n",
    "DiceRollSimulator.main(null)"
   ]
  }
 ],
 "metadata": {
  "kernelspec": {
   "display_name": "Java",
   "language": "java",
   "name": "java"
  },
  "language_info": {
   "name": "java",
   "version": "3.9.12"
  },
  "orig_nbformat": 4,
  "vscode": {
   "interpreter": {
    "hash": "b39cc0b7d7b7baa8a40a102196f269dabc963c0136c1c82ab9b0b53a6e35bbf2"
   }
  }
 },
 "nbformat": 4,
 "nbformat_minor": 2
}
