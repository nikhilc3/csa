{
 "cells": [
  {
   "cell_type": "markdown",
   "metadata": {},
   "source": [
    "---\n",
    "layout: post\n",
    "title: FRQ1\n",
    "type: hacks\n",
    "courses: { 'csa': {'week':16} } \n",
    "---"
   ]
  },
  {
   "cell_type": "markdown",
   "metadata": {},
   "source": [
    "## Question 1a\n",
    "\n",
    "- Write a static method arraySum that calculates and returns the sum of the entries in a specified one-dimensional array. The following example shows an array arr1 and the value returned by a call to arraySum.\n",
    "\n"
   ]
  },
  {
   "cell_type": "code",
   "execution_count": null,
   "metadata": {},
   "outputs": [
    {
     "name": "stdout",
     "output_type": "stream",
     "text": [
      "Total compounds tested this week: 77\n"
     ]
    }
   ],
   "source": [
    "public class FantasyFootball {\n",
    "    public static void main(String[] args) {\n",
    "\n",
    "        int[] fantasyPoints = {23, 14, 30, 10}; \n",
    "\n",
    "        int totalPoints = arraySum(fantasyPoints);\n",
    "\n",
    "        System.out.println(\"Projected fantasy points for your NFL team this week: \" + totalPoints);\n",
    "    }\n",
    "\n",
    "    public static int arraySum(int[] arr) {\n",
    "        int sum = 0;\n",
    "        for (int points : arr) {\n",
    "            sum += points;\n",
    "        }\n",
    "        return sum;\n",
    "    }\n",
    "}\n",
    "\n",
    "FantasyFootball.main(null); \n"
   ]
  },
  {
   "cell_type": "markdown",
   "metadata": {},
   "source": [
    "## 1b"
   ]
  },
  {
   "cell_type": "code",
   "execution_count": null,
   "metadata": {},
   "outputs": [
    {
     "name": "stdout",
     "output_type": "stream",
     "text": [
      "Phase 1 total resources: 16\n",
      "Phase 2 total resources: 33\n",
      "Phase 3 total resources: 28\n",
      "Phase 4 total resources: 20\n"
     ]
    }
   ],
   "source": [
    "public class ResearchResourceAllocation {\n",
    "    public static void main(String[] args) {\n",
    "        int[][] researchPhases = {\n",
    "            {1, 3, 2, 7, 3},\n",
    "            {10, 10, 1, 6, 6},\n",
    "            {5, 3, 5, 9, 6},\n",
    "            {7, 6, 4, 2, 1}\n",
    "        };\n",
    "        int[] resourcesPerPhase = rowSums(researchPhases);\n",
    "        for (int i = 0; i < resourcesPerPhase.length; i++) {\n",
    "            System.out.println(\"Phase \" + (i + 1) + \" total resources: \" + resourcesPerPhase[i]);\n",
    "        }\n",
    "    }\n",
    "\n",
    "    public static int arraySum(int[] arr) {\n",
    "        int sum = 0;\n",
    "        for (int num : arr) {\n",
    "            sum += num;\n",
    "        }\n",
    "        return sum;\n",
    "    }\n",
    "\n",
    "    public static int[] rowSums(int[][] arr2D) {\n",
    "        int[] sums = new int[arr2D.length];\n",
    "        for (int i = 0; i < arr2D.length; i++) {\n",
    "            sums[i] = arraySum(arr2D[i]); \n",
    "        }\n",
    "        return sums;\n",
    "    }\n",
    "}\n",
    "ResearchResourceAllocation.main(null);\n"
   ]
  },
  {
   "cell_type": "markdown",
   "metadata": {},
   "source": [
    "## 1c"
   ]
  },
  {
   "cell_type": "code",
   "execution_count": null,
   "metadata": {},
   "outputs": [
    {
     "name": "stdout",
     "output_type": "stream",
     "text": [
      "Do all research groups have unique findings? true\n"
     ]
    }
   ],
   "source": [
    "public class JungleExpedition {\n",
    "    \n",
    "    public static void main(String[] args) {\n",
    "        // 2D array where each row represents a different research group's findings\n",
    "        int[][] researchFindings = {\n",
    "            {1, 3, 2, 7, 3},\n",
    "            {10, 10, 1, 6, 6},\n",
    "            {5, 3, 5, 9, 6},\n",
    "            {7, 6, 4, 2, 1}\n",
    "        };\n",
    "\n",
    "        System.out.println(\"Do all research groups have unique findings? \" + isDiverse(researchFindings));\n",
    "    }\n",
    "    public static int arraySum(int[] arr) {\n",
    "        int sum = 0;\n",
    "        for (int num : arr) {\n",
    "            sum += num;\n",
    "        }\n",
    "        return sum;\n",
    "    }\n",
    "\n",
    "    public static int[] rowSums(int[][] arr2D) {\n",
    "        int[] sums = new int[arr2D.length];\n",
    "        for (int i = 0; i < arr2D.length; i++) {\n",
    "            sums[i] = arraySum(arr2D[i]);\n",
    "        }\n",
    "        return sums;\n",
    "    }\n",
    "\n",
    "    public static boolean isDiverse(int[][] arr2D){\n",
    "        int [] sums = rowSums(arr2D);\n",
    "        for (int i = 0; i < sums.length; i++){\n",
    "            for (int j = i + 1; j < sums.length; j++){\n",
    "                if (sums[i] == sums[j]){\n",
    "                    return false;\n",
    "                }\n",
    "            }\n",
    "        }\n",
    "        return true;\n",
    "    }\n",
    "}\n",
    "\n",
    "JungleExpedition.main(null);\n"
   ]
  },
  {
   "cell_type": "markdown",
   "metadata": {},
   "source": [
    "This FRQ from the AP Computer Science A exam was mainly focused on static methods to do one-dimensional and two-dimensional arrays. The FRQ required implementing algorithms to sum elements within arrays and compare those sums to assess diversity. Loop constructs were essential for traversing array elements. By completing the earlier parts, I could construct a final method that determined the uniqueness of row sums in a 2D array, symbolizing a critical step in data analysis similar to verifying the differences of research results in a scientific study.\n",
    "\n",
    "\n",
    "I used this frq and related the code by creating the theme to our first trimester final project of cancer research. "
   ]
  }
 ],
 "metadata": {
  "kernelspec": {
   "display_name": "Java",
   "language": "java",
   "name": "java"
  },
  "language_info": {
   "name": "java"
  },
  "orig_nbformat": 4
 },
 "nbformat": 4,
 "nbformat_minor": 2
}
