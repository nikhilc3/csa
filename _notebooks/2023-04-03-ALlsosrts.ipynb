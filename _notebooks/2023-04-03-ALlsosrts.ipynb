{
 "cells": [
  {
   "cell_type": "markdown",
   "metadata": {},
   "source": [
    "# Learn all sorts"
   ]
  },
  {
   "cell_type": "markdown",
   "metadata": {},
   "source": [
    "## Bubble Sort\n",
    "\n",
    "\n",
    "Explanation\n",
    "- Looks at 2 indexes, highest number will go to end.\n",
    "\n",
    "Time complexity: O(n^2)\n"
   ]
  },
  {
   "cell_type": "code",
   "execution_count": 22,
   "metadata": {},
   "outputs": [
    {
     "name": "stdout",
     "output_type": "stream",
     "text": [
      "Sorted array by age:\n",
      "11 12 22 25 34 64 90 "
     ]
    }
   ],
   "source": [
    "public class Person implements Comparable<Person> {\n",
    "    private int age;\n",
    "\n",
    "    public Person(int age) {\n",
    "        this.age = age;\n",
    "    }\n",
    "\n",
    "    public int getAge() {\n",
    "        return age;\n",
    "    }\n",
    "\n",
    "    @Override\n",
    "    public int compareTo(Person other) {\n",
    "        return this.age - other.age;\n",
    "    }\n",
    "}\n",
    "\n",
    "public class BubbleSort {\n",
    "    public static void bubbleSort(Person[] arr) {\n",
    "        int n = arr.length;\n",
    "        for (int i = 0; i < n-1; i++) {\n",
    "            for (int j = 0; j < n-i-1; j++) {\n",
    "                if (arr[j].compareTo(arr[j+1]) > 0) {\n",
    "                    // swap arr[j+1] and arr[j]\n",
    "                    Person temp = arr[j];\n",
    "                    arr[j] = arr[j+1];\n",
    "                    arr[j+1] = temp;\n",
    "                }\n",
    "            }\n",
    "        }\n",
    "    }\n",
    "    \n",
    "    public static void main(String[] args) {\n",
    "        Person[] arr = {\n",
    "            new Person(64), \n",
    "            new Person(34), \n",
    "            new Person(25), \n",
    "            new Person(12), \n",
    "            new Person(22), \n",
    "            new Person(11), \n",
    "            new Person(90)\n",
    "        };\n",
    "        bubbleSort(arr);\n",
    "        System.out.println(\"Sorted array by age:\");\n",
    "        for (Person person : arr) {\n",
    "            System.out.print(person.getAge() + \" \");\n",
    "        }\n",
    "    }\n",
    "}\n",
    "BubbleSort.main(null)"
   ]
  },
  {
   "cell_type": "markdown",
   "metadata": {},
   "source": [
    "# Selection Sort"
   ]
  },
  {
   "cell_type": "markdown",
   "metadata": {},
   "source": [
    "- each iteratoin, slect smallest from unsorted list and then move it based on sorted list position. "
   ]
  },
  {
   "cell_type": "code",
   "execution_count": 9,
   "metadata": {},
   "outputs": [
    {
     "name": "stdout",
     "output_type": "stream",
     "text": [
      "Sorted array\n",
      "11 12 22 25 64 "
     ]
    }
   ],
   "source": [
    "public class SelectionSort {\n",
    "    public static void selectionSort(int[] arr) {\n",
    "        int n = arr.length;\n",
    "        for (int i = 0; i < n-1; i++) {\n",
    "            int min_idx = i;\n",
    "            for (int j = i+1; j < n; j++)\n",
    "                if (arr[j] < arr[min_idx])\n",
    "                    min_idx = j;\n",
    "            int temp = arr[min_idx];\n",
    "            arr[min_idx] = arr[i];\n",
    "            arr[i] = temp;\n",
    "        }\n",
    "    }\n",
    "    \n",
    "    public static void main(String args[]) {\n",
    "        int arr[] = {64, 25, 12, 22, 11};\n",
    "        selectionSort(arr);\n",
    "        System.out.println(\"Sorted array\");\n",
    "        for (int i=0; i < arr.length; i++)\n",
    "            System.out.print(arr[i] + \" \");\n",
    "    }\n",
    "}\n",
    "SelectionSort.main(null)"
   ]
  },
  {
   "cell_type": "markdown",
   "metadata": {},
   "source": [
    "# Insertion Sort"
   ]
  },
  {
   "cell_type": "markdown",
   "metadata": {},
   "source": [
    "Explanation:\n",
    "- left to right\n",
    "- compare items to left\n",
    "- insert items to correct position. "
   ]
  },
  {
   "cell_type": "code",
   "execution_count": 10,
   "metadata": {},
   "outputs": [
    {
     "name": "stdout",
     "output_type": "stream",
     "text": [
      "Sorted array\n",
      "5 6 11 12 13 "
     ]
    }
   ],
   "source": [
    "public class InsertionSort {\n",
    "    public static void insertionSort(int[] arr) {\n",
    "        int n = arr.length;\n",
    "        for (int i=1; i<n; ++i) {\n",
    "            int key = arr[i];\n",
    "            int j = i-1;\n",
    "            while (j>=0 && arr[j] > key) {\n",
    "                arr[j+1] = arr[j];\n",
    "                j = j-1;\n",
    "            }\n",
    "            arr[j+1] = key;\n",
    "        }\n",
    "    }\n",
    "    \n",
    "    public static void main(String args[]) {\n",
    "        int arr[] = {12, 11, 13, 5, 6};\n",
    "        insertionSort(arr);\n",
    "        System.out.println(\"Sorted array\");\n",
    "        for (int i=0; i < arr.length; i++)\n",
    "            System.out.print(arr[i] + \" \");\n",
    "    }\n",
    "}\n",
    "InsertionSort.main(null)"
   ]
  },
  {
   "cell_type": "markdown",
   "metadata": {},
   "source": [
    "# Merge Sort"
   ]
  },
  {
   "cell_type": "markdown",
   "metadata": {},
   "source": [
    "Explanation: \n",
    "- Splits list in half everytime untill each element is by itself. Then it combines two of them and merges them into a different list, then compares and then merges those list into another lists and does this till sorted. "
   ]
  },
  {
   "cell_type": "code",
   "execution_count": 11,
   "metadata": {},
   "outputs": [
    {
     "name": "stdout",
     "output_type": "stream",
     "text": [
      "Sorted array\n",
      "5 6 7 11 12 13 "
     ]
    }
   ],
   "source": [
    "public class MergeSort {\n",
    "    public static void merge(int arr[], int l, int m, int r) {\n",
    "        int n1 = m - l + 1;\n",
    "        int n2 = r - m;\n",
    "        int L[] = new int [n1];\n",
    "        int R[] = new int [n2];\n",
    "        for (int i=0; i<n1; ++i)\n",
    "            L[i] = arr[l + i];\n",
    "        for (int j=0; j<n2; ++j)\n",
    "            R[j] = arr[m + 1+ j];\n",
    "        int i = 0, j = 0;\n",
    "        int k = l;\n",
    "        while (i < n1 && j < n2) {\n",
    "            if (L[i] <= R[j]) {\n",
    "                arr[k] = L[i];\n",
    "                i++;\n",
    "            }\n",
    "            else {\n",
    "                arr[k] = R[j];\n",
    "                j++;\n",
    "            }\n",
    "            k++;\n",
    "        }\n",
    "        while (i < n1) {\n",
    "            arr[k] = L[i];\n",
    "            i++;\n",
    "            k++;\n",
    "        }\n",
    "        while (j < n2) {\n",
    "            arr[k] = R[j];\n",
    "            j++;\n",
    "            k++;\n",
    "        }\n",
    "    }\n",
    "    public static void sort(int arr[], int l, int r) {\n",
    "        if (l < r) {\n",
    "            int m = (l+r)/2;\n",
    "            sort(arr, l, m);\n",
    "            sort(arr , m+1, r);\n",
    "            merge(arr, l, m, r);\n",
    "        }\n",
    "    }\n",
    "    \n",
    "    public static void main(String args[]) {\n",
    "        int arr[] = {12, 11, 13, 5, 6, 7};\n",
    "        sort(arr, 0, arr.length-1);\n",
    "        System.out.println(\"Sorted array\");\n",
    "        for (int i=0; i<arr.length; ++i)\n",
    "            System.out.print(arr[i] + \" \");\n",
    "    }\n",
    "}\n",
    "MergeSort.main(null)"
   ]
  },
  {
   "cell_type": "markdown",
   "metadata": {},
   "source": [
    "# Quick Sort"
   ]
  },
  {
   "cell_type": "markdown",
   "metadata": {},
   "source": [
    "Explanation:\n",
    "- Works off of a pivot\n",
    "- correct positions in final sorted array, items to left are smaller and items to right are larger.\n",
    "\n",
    "Time Complexity: O(n^2)"
   ]
  },
  {
   "cell_type": "code",
   "execution_count": 12,
   "metadata": {},
   "outputs": [
    {
     "name": "stdout",
     "output_type": "stream",
     "text": [
      "Sorted array\n",
      "1 5 7 8 9 10 "
     ]
    }
   ],
   "source": [
    "public class QuickSort {\n",
    "    public static int partition(int arr[], int low, int high) {\n",
    "        int pivot = arr[high]; \n",
    "        int i = (low-1);\n",
    "        for (int j=low; j<high; j++) {\n",
    "            if (arr[j] < pivot) {\n",
    "                i++;\n",
    "                int temp = arr[i];\n",
    "                arr[i] = arr[j];\n",
    "                arr[j] = temp;\n",
    "            }\n",
    "        }\n",
    "        int temp = arr[i+1];\n",
    "        arr[i+1] = arr[high];\n",
    "        arr[high] = temp;\n",
    "        return i+1;\n",
    "    }\n",
    "    public static void sort(int arr[], int low, int high) {\n",
    "        if (low < high) {\n",
    "            int pi = partition(arr, low, high);\n",
    "            sort(arr, low, pi-1);\n",
    "            sort(arr, pi+1, high);\n",
    "        }\n",
    "    }\n",
    "    \n",
    "    public static void main(String args[]) {\n",
    "        int arr[] = {10, 7, 8, 9, 1, 5};\n",
    "        int n = arr.length;\n",
    "        sort(arr, 0, n-1);\n",
    "        System.out.println(\"Sorted array\");\n",
    "        for (int i=0; i<n; ++i)\n",
    "            System.out.print(arr[i]+\" \");\n",
    "    }\n",
    "}\n",
    "QuickSort.main(null)"
   ]
  },
  {
   "cell_type": "markdown",
   "metadata": {},
   "source": [
    "# Learn Algorithmic Sort in depth"
   ]
  },
  {
   "cell_type": "markdown",
   "metadata": {},
   "source": [
    "## Merge sort with linked list"
   ]
  },
  {
   "cell_type": "code",
   "execution_count": 16,
   "metadata": {},
   "outputs": [
    {
     "name": "stdout",
     "output_type": "stream",
     "text": [
      "Linked List before sorting\n",
      "15 -> 10 -> 5 -> 20 -> 3 -> 2 -> NULL\n",
      "Linked List after sorting\n",
      "2 -> 3 -> 5 -> 10 -> 15 -> 20 -> NULL\n"
     ]
    }
   ],
   "source": [
    "class LinkedList {\n",
    "\n",
    "    static class Node {\n",
    "        int data;\n",
    "        Node next;\n",
    "        \n",
    "        public Node(int data) {\n",
    "            this.data = data;\n",
    "            this.next = null;\n",
    "        }\n",
    "    }\n",
    "    \n",
    "    Node head = null;\n",
    "\n",
    "    // Method to insert a node at the end of the linked list.\n",
    "    public void append(int data) {\n",
    "        if (head == null) {\n",
    "            head = new Node(data);\n",
    "            return;\n",
    "        }\n",
    "        \n",
    "        Node current = head;\n",
    "        while (current.next != null) {\n",
    "            current = current.next;\n",
    "        }\n",
    "        \n",
    "        current.next = new Node(data);\n",
    "    }\n",
    "\n",
    "    // Method to print the linked list.\n",
    "    public void printList() {\n",
    "        Node current = head;\n",
    "        while (current != null) {\n",
    "            System.out.print(current.data + \" -> \");\n",
    "            current = current.next;\n",
    "        }\n",
    "        System.out.println(\"NULL\");\n",
    "    }\n",
    "\n",
    "    // Method to merge two halves of the linked list.\n",
    "    Node sortedMerge(Node a, Node b) {\n",
    "        Node result = null;\n",
    "        if (a == null)\n",
    "            return b;\n",
    "        if (b == null)\n",
    "            return a;\n",
    "            \n",
    "        if (a.data <= b.data) {\n",
    "            result = a;\n",
    "            result.next = sortedMerge(a.next, b);\n",
    "        } else {\n",
    "            result = b;\n",
    "            result.next = sortedMerge(a, b.next);\n",
    "        }\n",
    "        return result;\n",
    "    }\n",
    "\n",
    "    // Method to split the linked list into two halves.\n",
    "    Node mergeSort(Node h) {\n",
    "        if (h == null || h.next == null) {\n",
    "            return h;\n",
    "        }\n",
    "        \n",
    "        Node middle = getMiddle(h);\n",
    "        Node nextOfMiddle = middle.next;\n",
    "        \n",
    "        middle.next = null;\n",
    "        \n",
    "        Node left = mergeSort(h);\n",
    "        \n",
    "        Node right = mergeSort(nextOfMiddle);\n",
    "        \n",
    "        Node sortedlist = sortedMerge(left, right);\n",
    "        return sortedlist;\n",
    "    }\n",
    "    \n",
    "    // Utility method to get the middle of the linked list\n",
    "    Node getMiddle(Node h) {\n",
    "        if (h == null)\n",
    "            return h;\n",
    "        Node slow = h, fast = h;\n",
    "\n",
    "        while (fast.next != null && fast.next.next != null) {\n",
    "            slow = slow.next;\n",
    "            fast = fast.next.next;\n",
    "        }\n",
    "        return slow;\n",
    "    }\n",
    "\n",
    "    // Method to start merge sort\n",
    "    public void sortList() {\n",
    "        head = mergeSort(head);\n",
    "    }\n",
    "\n",
    "    public static void main(String[] args) {\n",
    "        LinkedList list = new LinkedList();\n",
    "        list.append(15);\n",
    "        list.append(10);\n",
    "        list.append(5);\n",
    "        list.append(20);\n",
    "        list.append(3);\n",
    "        list.append(2);\n",
    "        \n",
    "        System.out.println(\"Linked List before sorting\");\n",
    "        list.printList();\n",
    "        \n",
    "        list.sortList();\n",
    "        \n",
    "        System.out.println(\"Linked List after sorting\");\n",
    "        list.printList();\n",
    "    }\n",
    "}\n",
    "LinkedList.main(null)"
   ]
  },
  {
   "cell_type": "code",
   "execution_count": 17,
   "metadata": {},
   "outputs": [
    {
     "name": "stdout",
     "output_type": "stream",
     "text": [
      "Person{name='Alice', age=22}\n",
      "Person{name='Bob', age=25}\n",
      "Person{name='John', age=30}\n"
     ]
    }
   ],
   "source": [
    "import java.util.*;\n",
    "\n",
    "public class Person implements Comparable<Person> {\n",
    "    private String name;\n",
    "    private int age;\n",
    "\n",
    "    public Person(String name, int age) {\n",
    "        this.name = name;\n",
    "        this.age = age;\n",
    "    }\n",
    "\n",
    "    @Override\n",
    "    public int compareTo(Person other) {\n",
    "        return this.name.compareTo(other.name); // Sort by name\n",
    "    }\n",
    "\n",
    "    @Override\n",
    "    public String toString() {\n",
    "        return \"Person{name='\" + name + '\\'' + \", age=\" + age + '}';\n",
    "    }\n",
    "\n",
    "    public static void main(String[] args) {\n",
    "        List<Person> people = new ArrayList<>();\n",
    "        people.add(new Person(\"John\", 30));\n",
    "        people.add(new Person(\"Alice\", 22));\n",
    "        people.add(new Person(\"Bob\", 25));\n",
    "\n",
    "        Collections.sort(people);\n",
    "\n",
    "        for (Person p : people) {\n",
    "            System.out.println(p);\n",
    "        }\n",
    "    }\n",
    "}\n",
    "Person.main(null)"
   ]
  }
 ],
 "metadata": {
  "kernelspec": {
   "display_name": "Java",
   "language": "java",
   "name": "java"
  },
  "language_info": {
   "codemirror_mode": "java",
   "file_extension": ".jshell",
   "mimetype": "text/x-java-source",
   "name": "java",
   "pygments_lexer": "java",
   "version": "21.0.1+12-LTS-29"
  },
  "orig_nbformat": 4
 },
 "nbformat": 4,
 "nbformat_minor": 2
}
