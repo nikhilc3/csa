{
 "cells": [
  {
   "cell_type": "markdown",
   "metadata": {},
   "source": [
    "---\n",
    "layout: default\n",
    "title: FRQ Hacks\n",
    "type: hacks \n",
    "courses: { 'csa': {'week':30} }  \n",
    "---"
   ]
  },
  {
   "cell_type": "markdown",
   "metadata": {},
   "source": [
    "# Arrays FRQ #3"
   ]
  },
  {
   "cell_type": "markdown",
   "metadata": {},
   "source": [
    "- **Fixed Size:** Arrays are like a set of boxes. If you know you only need a certain number of boxes, arrays are perfect. This can make your program run faster.\n",
    "\n",
    "- **Performance:** Getting something out of an array is super quick. This is because of how arrays are lined up in the computer's memory. So, if you need to grab things fast, arrays are great.\n",
    "\n",
    "- **Type Safety:** Arrays make sure everything in them is the same kind. This stops mistakes and makes your program safer.\n",
    "\n",
    "- **Foundation for More Complex Data Structures:** Arrays are like the building blocks for more complicated storage ways, like big toolboxes or organizers. Knowing arrays helps you understand these bigger toolboxes better.\n",
    "\n",
    "- **Use in Algorithms:** Arrays are used a lot in making recipes (algorithms) for the computer, especially when you need to line things up or find things quickly.\n",
    "\n",
    "- **Simplicity:** Arrays are easy to use for storing and getting to your data, making writing your program simpler.\n"
   ]
  },
  {
   "cell_type": "code",
   "execution_count": 1,
   "metadata": {
    "vscode": {
     "languageId": "java"
    }
   },
   "outputs": [
    {
     "name": "stdout",
     "output_type": "stream",
     "text": [
      "The average grade is: 87.8\n"
     ]
    }
   ],
   "source": [
    "public class StudentManagementSystem {\n",
    "    \n",
    "    // Method signature and implementation\n",
    "    /**\n",
    "     * Calculates the average grade from an array of integer grades.\n",
    "     */\n",
    "    \n",
    "    public static double calculateAverageGrade(int[] grades) {\n",
    "        if (grades == null || grades.length == 0) {\n",
    "            // If the array is null or empty, return 0 to indicate that no average can be calculated.\n",
    "            return 0;\n",
    "        }\n",
    "        \n",
    "        double sum = 0; // Initialize sum to accumulate grades.\n",
    "        for (int grade : grades) {\n",
    "            // Loop through each grade in the array and add it to the sum.\n",
    "            sum += grade;\n",
    "        }\n",
    "        \n",
    "        // Calculate the average by dividing the sum by the number of grades.\n",
    "        // Cast the length of the grades array to double to avoid integer division.\n",
    "        return sum / grades.length;\n",
    "    }\n",
    "\n",
    "    \n",
    "    public static void main(String[] args) {\n",
    "        int[] grades = {85, 92, 88, 96, 78};\n",
    "        double average = calculateAverageGrade(grades);\n",
    "        System.out.println(\"The average grade is: \" + average);\n",
    "    }\n",
    "}\n",
    "StudentManagementSystem.main(null)"
   ]
  },
  {
   "cell_type": "markdown",
   "metadata": {},
   "source": [
    "# Math FRQ #4"
   ]
  },
  {
   "cell_type": "markdown",
   "metadata": {},
   "source": [
    "The Math class in Java is like a toolbox for math. It has tools (methods and constants) for doing math stuff like adding, multiplying, finding square roots, and more. You don't have to go get it (import it) because it's already there when you start (part of the java.lang package). This toolbox is really handy because it can do complicated math without you having to figure out how, saving you time and making fewer mistakes.\n"
   ]
  },
  {
   "cell_type": "code",
   "execution_count": 2,
   "metadata": {
    "vscode": {
     "languageId": "java"
    }
   },
   "outputs": [
    {
     "name": "stdout",
     "output_type": "stream",
     "text": [
      "The square root of 25.0 is: 5.0\n"
     ]
    }
   ],
   "source": [
    "public class ScientificCalculator {\n",
    "    \n",
    "    /**\n",
    "     * Calculates the square root of a given number.\n",
    "     *\n",
    "     * @param number The number to find the square root of.\n",
    "     * @return The square root of the number.\n",
    "     */\n",
    "    public static double calculateSquareRoot(double number) {\n",
    "        // Use the Math.sqrt method to calculate the square root.\n",
    "        // The Math.sqrt method returns the square root of the argument.\n",
    "        return Math.sqrt(number);\n",
    "    }\n",
    "\n",
    "    // Main method to test the calculateSquareRoot function\n",
    "    public static void main(String[] args) {\n",
    "        double number = 25;\n",
    "        double squareRoot = calculateSquareRoot(number);\n",
    "        System.out.println(\"The square root of \" + number + \" is: \" + squareRoot);\n",
    "    }\n",
    "}\n",
    "ScientificCalculator.main(null)"
   ]
  }
 ],
 "metadata": {
  "kernelspec": {
   "display_name": "Java",
   "language": "java",
   "name": "java"
  },
  "language_info": {
   "codemirror_mode": "java",
   "file_extension": ".jshell",
   "mimetype": "text/x-java-source",
   "name": "Java",
   "pygments_lexer": "java",
   "version": "21.0.1+12-LTS-29"
  },
  "orig_nbformat": 4
 },
 "nbformat": 4,
 "nbformat_minor": 2
}
