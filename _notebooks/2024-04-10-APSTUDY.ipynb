{
 "cells": [
  {
   "cell_type": "markdown",
   "metadata": {},
   "source": [
    "---\n",
    "layout: default\n",
    "title: Algorythmic \n",
    "type: hacks\n",
    "courses: { 'csa': {'week':35} } \n",
    "---"
   ]
  },
  {
   "cell_type": "markdown",
   "metadata": {},
   "source": [
    "# Algorythmic Review Blog"
   ]
  },
  {
   "cell_type": "markdown",
   "metadata": {},
   "source": [
    "## Tangibles\n",
    "- This is the script that we worked on, although I did not work on much as I was BOGO, but was in called and helped with ideas: https://docs.google.com/document/d/1SPMJg94tYBI_pJfHbQfTnMuZ8g_N_7lRNBNfPCZ8Xkw/edit\n",
    "- Our Practice Videos:\n",
    "  - https://www.youtube.com/watch?v=FyDWarOKnFU\n",
    "  - ![Screenshot 2024-05-13 at 11 34 36 PM](https://github.com/nikhilc3/csa/assets/111464993/31b53fa7-62ad-43e5-af96-c0dd70b6279d)\n",
    "  - https://github.com/nikhilc3/csa/assets/111464993/b45b7188-7841-4d51-8a78-17a7b93eedc6\n",
    "\n",
    "\n",
    "- Our preformance video:\n",
    "  - https://www.youtube.com/watch?v=-2_5y01plFk\n",
    "\n",
    "\n",
    "### Our Successes:\n",
    "- Score Breakdown was pretty good as it was a 9 in every category:\n",
    "  - Algorithm Accuracy was a 9\n",
    "  - Career Ready was a 9\n",
    "  - Career / College Juggling: 9\n",
    "  - College Ready was a 9\n",
    "  - Impression was a 9\n",
    "  - Total: 45/50\n",
    "\n",
    "\n",
    "\n",
    "### Improvements to bring up to 10\n",
    "  - The judges told us that our costumes were too hard to see, like the piece of papers representing the sorting and that is a very true point as it is a little hard to understand the sort without seeing the numbers which is a crucial part of it. \n",
    "  - Audience was jumbled up with too many things so probably kept it more clear and straight forward and concise.\n",
    "  \n",
    "\n",
    "### Challenges:\n",
    "  - One big challenge was the time conflicting schedules, like one day I could not show up to practice as I was sick, although I had made it up by joining a call and catching up with Tirth and everyone\n",
    "\n",
    "### Future Presentations/plays:\n",
    "  - Make demonstrations more visible\n",
    "  - Manage practices and time more effecient by giving days of notice and seeing if everyone is available\n",
    "  - More clarity in the speach \n",
    "  - Being more concise in a presentation is key not just in this but in anything"
   ]
  }
 ],
 "metadata": {
  "kernelspec": {
   "display_name": "Java",
   "language": "java",
   "name": "java"
  },
  "language_info": {
   "name": "java"
  },
  "orig_nbformat": 4
 },
 "nbformat": 4,
 "nbformat_minor": 2
}
