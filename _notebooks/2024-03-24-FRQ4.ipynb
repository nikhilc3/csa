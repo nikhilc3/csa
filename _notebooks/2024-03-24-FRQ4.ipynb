{
 "cells": [
  {
   "cell_type": "markdown",
   "metadata": {},
   "source": [
    "---\n",
    "layout: post\n",
    "title: FRQ4\n",
    "type: hacks\n",
    "courses: { 'csa': {'week':16} } \n",
    "---"
   ]
  },
  {
   "cell_type": "markdown",
   "metadata": {},
   "source": [
    "## Question 4"
   ]
  },
  {
   "cell_type": "code",
   "execution_count": null,
   "metadata": {},
   "outputs": [
    {
     "name": "stdout",
     "output_type": "stream",
     "text": [
      "Does the range contain -5? true\n",
      "Does the range contain 3? true\n",
      "Does the range contain 2? true\n",
      "Does the range contain 4? false\n"
     ]
    }
   ],
   "source": [
    "// Define the NumberGroup interface with one method\n",
    "interface NumberGroup {\n",
    "    boolean contains(int number);\n",
    "}\n",
    "\n",
    "// Implement the interface with a simple class\n",
    "class Range implements NumberGroup {\n",
    "    private int min;\n",
    "    private int max;\n",
    "\n",
    "    public Range(int min, int max) {\n",
    "        this.min = min;\n",
    "        this.max = max;\n",
    "    }\n",
    "\n",
    "    // Implement the contains method to check if a number is in the range\n",
    "    public boolean contains(int number) {\n",
    "        return number >= min && number <= max;\n",
    "    }\n",
    "}\n",
    "\n",
    "// Main class to run the code\n",
    "public class NumberGroupDemo {\n",
    "    public static void main(String[] args) {\n",
    "        NumberGroup range = new Range(-5, 3);\n",
    "\n",
    "        // Test the contains method\n",
    "        System.out.println(\"Does the range contain -5? \" + range.contains(-5)); // Expected: true\n",
    "        System.out.println(\"Does the range contain 3? \" + range.contains(3));   // Expected: true\n",
    "        System.out.println(\"Does the range contain 2? \" + range.contains(2));   // Expected: true\n",
    "        System.out.println(\"Does the range contain 4? \" + range.contains(4));   // Expected: false\n",
    "    }\n",
    "}\n",
    "\n",
    "NumberGroupDemo.main(null);\n"
   ]
  },
  {
   "cell_type": "markdown",
   "metadata": {},
   "source": [
    "## 4b "
   ]
  },
  {
   "cell_type": "code",
   "execution_count": null,
   "metadata": {},
   "outputs": [
    {
     "name": "stdout",
     "output_type": "stream",
     "text": [
      "Does the range include -3? true\n",
      "Does the range include 2? true\n",
      "Does the range include 3? false\n"
     ]
    }
   ],
   "source": [
    "// NumberGroup interface as defined in part (a)\n",
    "interface NumberGroup {\n",
    "    boolean contains(int number);\n",
    "}\n",
    "\n",
    "// Complete Range class\n",
    "class Range implements NumberGroup {\n",
    "    private int min;\n",
    "    private int max;\n",
    "\n",
    "    public Range(int min, int max) {\n",
    "        this.min = min;\n",
    "        this.max = max;\n",
    "    }\n",
    "\n",
    "    // Implementation of the contains method from the NumberGroup interface\n",
    "    public boolean contains(int number) {\n",
    "        return number >= min && number <= max;\n",
    "    }\n",
    "}\n",
    "\n",
    "// Main class to run the code\n",
    "public class Main {\n",
    "    public static void main(String[] args) {\n",
    "        NumberGroup range1 = new Range(-3, 2);\n",
    "\n",
    "        System.out.println(\"Does the range include -3? \" + range1.contains(-3)); // Expected: true\n",
    "        System.out.println(\"Does the range include 2? \" + range1.contains(2));   // Expected: true\n",
    "        System.out.println(\"Does the range include 3? \" + range1.contains(3));   // Expected: false\n",
    "    }\n",
    "}\n",
    "\n",
    "Main.main(null);\n"
   ]
  },
  {
   "cell_type": "markdown",
   "metadata": {},
   "source": [
    "## 4c"
   ]
  },
  {
   "cell_type": "code",
   "execution_count": null,
   "metadata": {},
   "outputs": [
    {
     "name": "stdout",
     "output_type": "stream",
     "text": [
      "Multiple1 contains 2: true\n",
      "Multiple1 contains 9: false\n",
      "Multiple1 contains 6: true\n"
     ]
    }
   ],
   "source": [
    "import java.util.ArrayList;\n",
    "import java.util.List;\n",
    "\n",
    "// Assuming NumberGroup interface already defined\n",
    "interface NumberGroup {\n",
    "    boolean contains(int number);\n",
    "}\n",
    "\n",
    "class Range implements NumberGroup {\n",
    "    private int min;\n",
    "    private int max;\n",
    "\n",
    "    public Range(int min, int max) {\n",
    "        this.min = min;\n",
    "        this.max = max;\n",
    "    }\n",
    "\n",
    "    public boolean contains(int number) {\n",
    "        return number >= min && number <= max;\n",
    "    }\n",
    "}\n",
    "\n",
    "class MultipleGroups {\n",
    "    private List<NumberGroup> groupList;\n",
    "\n",
    "    public MultipleGroups() {\n",
    "        groupList = new ArrayList<>();\n",
    "    }\n",
    "\n",
    "    public void addNumberGroup(NumberGroup numberGroup) {\n",
    "        groupList.add(numberGroup);\n",
    "    }\n",
    "\n",
    "    public boolean contains(int num) {\n",
    "        for (NumberGroup group : groupList) {\n",
    "            if (group.contains(num)) {\n",
    "                return true;\n",
    "            }\n",
    "        }\n",
    "        return false;\n",
    "    }\n",
    "}\n",
    "\n",
    "public class NumberGroupDemo {\n",
    "    public static void main(String[] args) {\n",
    "        MultipleGroups multiple1 = new MultipleGroups();\n",
    "        multiple1.addNumberGroup(new Range(5, 8));\n",
    "        multiple1.addNumberGroup(new Range(10, 12));\n",
    "        multiple1.addNumberGroup(new Range(1, 6));\n",
    "\n",
    "        System.out.println(\"Multiple1 contains 2: \" + multiple1.contains(2)); // Expected: true\n",
    "        System.out.println(\"Multiple1 contains 9: \" + multiple1.contains(9)); // Expected: false\n",
    "        System.out.println(\"Multiple1 contains 6: \" + multiple1.contains(6)); // Expected: true\n",
    "    }\n",
    "}\n",
    "\n",
    "NumberGroupDemo.main(null);\n"
   ]
  },
  {
   "cell_type": "markdown",
   "metadata": {},
   "source": []
  }
 ],
 "metadata": {
  "kernelspec": {
   "display_name": "Java",
   "language": "java",
   "name": "java"
  },
  "language_info": {
   "name": "java",
   "version": "3.9.12"
  },
  "orig_nbformat": 4,
  "vscode": {
   "interpreter": {
    "hash": "b39cc0b7d7b7baa8a40a102196f269dabc963c0136c1c82ab9b0b53a6e35bbf2"
   }
  }
 },
 "nbformat": 4,
 "nbformat_minor": 2
}
