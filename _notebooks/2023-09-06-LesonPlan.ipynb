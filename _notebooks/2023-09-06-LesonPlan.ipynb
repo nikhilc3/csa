{
 "cells": [
  {
   "cell_type": "markdown",
   "metadata": {},
   "source": [
    "---\n",
    "layout: default\n",
    "title: Lesson plan \n",
    "type: plans\n",
    "courses: { 'csa': {'week':5} }  \n",
    "comments: true\n",
    "---"
   ]
  },
  {
   "cell_type": "markdown",
   "metadata": {},
   "source": [
    "# Frontend Development for Cancer Research Project\n",
    "\n",
    "## Objective:\n",
    "Develop a frontend application that fetches data from a backend API containing statistics on the number of people affected by various types of cancer by country.\n",
    "\n",
    "\n",
    "## Lesson Outline:\n",
    "\n",
    "### 1. Introduction\n",
    "- Brief overview of the project.\n",
    "- Importance of visualizing cancer data for research.\n",
    "\n",
    "### 2. Setting up the Development Environment\n",
    "- Installing necessary tools and libraries.\n",
    "- Setting up a local development server.\n",
    "\n",
    "### 3. Designing the Frontend\n",
    "- Sketching a basic layout of the application.\n",
    "- Deciding on the UI/UX elements (charts, tables, filters, etc.).\n",
    "\n",
    "### 4. Fetching Data from the Java API∂\n",
    "- Making GET requests to fetch data.\n",
    "- Handling API responses and errors.\n",
    "\n",
    "### 5. Displaying the Data\n",
    "- Parsing the fetched data.\n",
    "- Using Java libraries to visualize the data (charts, graphs, etc.).\n",
    "- Implementing filters to view data by country or cancer type.\n",
    "\n",
    "### 6. Styling the Application\n",
    "- Applying CSS for a responsive design.\n",
    "- Enhancing user experience with animations and transitions.\n",
    "\n",
    "### 7. Testing and Debugging\n",
    "- Testing the application on different browsers.\n",
    "- Debugging common issues.\n",
    "- Ensuring data accuracy.\n",
    "\n",
    "### 8. Conclusion and Next Steps\n",
    "- Reviewing the developed application.\n",
    "- Discussing potential improvements and features.\n",
    "- Deploying the application to a live server.\n",
    "\n",
    "## Resources:\n",
    "- [Java API Documentation](#)\n",
    "- [Fetch API Documentation](https://developer.mozilla.org/en-US/docs/Web/API/Fetch_API)\n",
    "- [Java Libraries for Data Visualization](#)\n",
    "\n"
   ]
  }
 ],
 "metadata": {
  "kernelspec": {
   "display_name": "Python 3.9.12 ('base')",
   "language": "python",
   "name": "python3"
  },
  "language_info": {
   "name": "python",
   "version": "3.9.12"
  },
  "orig_nbformat": 4,
  "vscode": {
   "interpreter": {
    "hash": "b39cc0b7d7b7baa8a40a102196f269dabc963c0136c1c82ab9b0b53a6e35bbf2"
   }
  }
 },
 "nbformat": 4,
 "nbformat_minor": 2
}
