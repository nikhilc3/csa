{
 "cells": [
  {
   "cell_type": "markdown",
   "metadata": {},
   "source": [
    "---\n",
    "layout: default\n",
    "title: U8 Hacks \n",
    "type: hacks\n",
    "courses: { csa: {week: 30} }  \n",
    "comments: true \n",
    "---"
   ]
  },
  {
   "cell_type": "code",
   "execution_count": 1,
   "metadata": {},
   "outputs": [
    {
     "name": "stdout",
     "output_type": "stream",
     "text": [
      "Image conversion successful!\n"
     ]
    }
   ],
   "source": [
    "import javax.imageio.ImageIO;\n",
    "import java.io.File;\n",
    "import java.io.IOException;\n",
    "import java.awt.image.BufferedImage;\n",
    "\n",
    "public class ImageConverter {\n",
    "\n",
    "    public static void main(String[] args) {\n",
    "        try {\n",
    "            // Input and output file paths\n",
    "            String inputPath = \"/Users/nikhilchakravarthula/vscode/csa/CSA!.png\";\n",
    "            String outputPath = \"/Users/nikhilchakravarthula/vscode/csa/CSAn.gif\";\n",
    "\n",
    "            // Read the image\n",
    "            File inputFile = new File(inputPath);\n",
    "            BufferedImage img = ImageIO.read(inputFile);\n",
    "\n",
    "            // Write the image\n",
    "            File outputFile = new File(outputPath);\n",
    "            ImageIO.write(img, \"gif\", outputFile);\n",
    "\n",
    "            System.out.println(\"Image conversion successful!\");\n",
    "        } catch (IOException e) {\n",
    "            e.printStackTrace();\n",
    "        }\n",
    "    }\n",
    "}\n",
    "ImageConverter.main(null)"
   ]
  },
  {
   "cell_type": "code",
   "execution_count": 21,
   "metadata": {},
   "outputs": [
    {
     "name": "stdout",
     "output_type": "stream",
     "text": [
      "Image conversion successful for: /Users/nikhilchakravarthula/vscode/csa/CSA!.png\n",
      "Image conversion successful for: /Users/nikhilchakravarthula/vscode/csa/CSA2.png\n",
      "Image conversion successful for: /Users/nikhilchakravarthula/vscode/csa/CSA3.png\n"
     ]
    }
   ],
   "source": [
    "import javax.imageio.ImageIO;\n",
    "import java.io.File;\n",
    "import java.io.IOException;\n",
    "import java.awt.image.BufferedImage;\n",
    "\n",
    "public class ImageConverter {\n",
    "\n",
    "    public static void main(String[] args) {\n",
    "        try {\n",
    "            // Input and output file paths\n",
    "            String[] inputPaths = {\n",
    "                \"/Users/nikhilchakravarthula/vscode/csa/CSA!.png\",\n",
    "                \"/Users/nikhilchakravarthula/vscode/csa/CSA2.png\",\n",
    "                \"/Users/nikhilchakravarthula/vscode/csa/CSA3.png\"\n",
    "            };\n",
    "            String outputPath = \"/Users/nikhilchakravarthula/vscode/csa/\";\n",
    "\n",
    "            // Loop through each image in the array\n",
    "            for (String inputPath : inputPaths) {\n",
    "                // Read the image\n",
    "                File inputFile = new File(inputPath);\n",
    "                BufferedImage img = ImageIO.read(inputFile);  // Buffered image is a class in java for handling image data\n",
    "\n",
    "                // Write the image\n",
    "                String outputFileName = \"converted_\" + new File(inputPath).getName().replace(\".png\", \".gif\");\n",
    "                String outputFilePath = outputPath + outputFileName;\n",
    "                File outputFile = new File(outputFilePath);\n",
    "                ImageIO.write(img, \"gif\", outputFile);\n",
    "\n",
    "                System.out.println(\"Image conversion successful for: \" + inputPath);\n",
    "            }\n",
    "        } catch (IOException e) {\n",
    "            e.printStackTrace();\n",
    "        }\n",
    "    }\n",
    "}\n",
    "ImageConverter.main(null)\n"
   ]
  },
  {
   "cell_type": "markdown",
   "metadata": {},
   "source": [
    "## Scaling the Image"
   ]
  },
  {
   "cell_type": "code",
   "execution_count": 1,
   "metadata": {},
   "outputs": [
    {
     "name": "stdout",
     "output_type": "stream",
     "text": [
      "Image scaling successful!\n"
     ]
    },
    {
     "ename": "",
     "evalue": "",
     "output_type": "error",
     "traceback": [
      "The Kernel crashed while executing code in the the current cell or a previous cell. Please review the code in the cell(s) to identify a possible cause of the failure. Click <a href='https://aka.ms/vscodeJupyterKernelCrash'>here</a> for more info. View Jupyter <a href='command:jupyter.viewOutput'>log</a> for further details."
     ]
    }
   ],
   "source": [
    "import javax.imageio.ImageIO;\n",
    "import java.awt.*;\n",
    "import java.awt.image.BufferedImage;\n",
    "import java.io.File;\n",
    "import java.io.IOException;\n",
    "\n",
    "public class ImageScaler {\n",
    "\n",
    "    public static void main(String[] args) {\n",
    "        try {\n",
    "            // Input and output file paths\n",
    "            String inputPath = \"/Users/nikhilchakravarthula/vscode/csa/CSA!.png\";\n",
    "            String outputPath = \"/Users/nikhilchakravarthula/vscode/csa/\";\n",
    "\n",
    "            // Desired width and height of the scaled image\n",
    "            int scaledWidth = 100;\n",
    "            int scaledHeight = 100;\n",
    "\n",
    "            // Read the image\n",
    "            File inputFile = new File(inputPath);\n",
    "            BufferedImage inputImage = ImageIO.read(inputFile);\n",
    "\n",
    "            // Scale the image\n",
    "            BufferedImage scaledImage = scaleImage(inputImage, scaledWidth, scaledHeight);\n",
    "\n",
    "            // Write the scaled image\n",
    "            String outputFileName = \"converted_\" + new File(inputPath).getName().replace(\".png\", \".gif\");\n",
    "            String outputFilePath = outputPath + outputFileName;\n",
    "            File outputFile = new File(outputFilePath);\n",
    "            ImageIO.write(scaledImage, \"gif\", outputFile);  \n",
    "\n",
    "            System.out.println(\"Image scaling successful!\");\n",
    "        } catch (IOException e) {\n",
    "            e.printStackTrace();\n",
    "        }\n",
    "    }\n",
    "\n",
    "    public static BufferedImage scaleImage(BufferedImage originalImage, int width, int height) {\n",
    "        BufferedImage scaledImage = new BufferedImage(width, height, originalImage.getType());\n",
    "\n",
    "        // Create a Graphics2D object and set the rendering hints for scaling\n",
    "        Graphics2D g2d = scaledImage.createGraphics();\n",
    "        g2d.setRenderingHint(RenderingHints.KEY_INTERPOLATION, RenderingHints.VALUE_INTERPOLATION_BILINEAR);\n",
    "\n",
    "        // Draw the original image on the new BufferedImage with the desired width and height\n",
    "        g2d.drawImage(originalImage, 0, 0, width, height, null);\n",
    "\n",
    "        // Dispose of the Graphics2D object\n",
    "        g2d.dispose();\n",
    "\n",
    "        return scaledImage;\n",
    "    }\n",
    "}\n",
    "ImageScaler.main(null)\n"
   ]
  }
 ],
 "metadata": {
  "kernelspec": {
   "display_name": "Java",
   "language": "java",
   "name": "java"
  },
  "language_info": {
   "codemirror_mode": "java",
   "file_extension": ".jshell",
   "mimetype": "text/x-java-source",
   "name": "java",
   "pygments_lexer": "java",
   "version": "17.0.8+7"
  },
  "orig_nbformat": 4
 },
 "nbformat": 4,
 "nbformat_minor": 2
}
