{
 "cells": [
  {
   "cell_type": "markdown",
   "metadata": {},
   "source": []
  },
  {
   "cell_type": "markdown",
   "metadata": {},
   "source": [
    "https://eshaank1.github.io/chat/\n",
    "\n",
    "Frontend - Yes\n",
    "\n",
    "Backend - Yes\n",
    "\n",
    "API - Yes \n",
    "\n",
    "Agile - Yes\n",
    "\n",
    "HOOK:\n",
    "Points: 3.7\n",
    "Reason: The core concept of their initiative is a chatbox designed for simultaneous use by multiple individuals. They showcased its functionality by having several users converse in the chatroom from different computers, confirming that the chatroom operates effectively.\n",
    "\n",
    "KNOWLEDGE:\n",
    "Points: 3.6\n",
    "Reason: There are some decent and simple features like switching the color and the chatroom is extremely useful for chatting to other people maybe if they dont want to chat on messages or something they can go onto this website.\n",
    "\n",
    "VALUE:\n",
    "Points: 0.6\n",
    "Reason: The most useful aspect of this project is being able to communicate with others through a chatroom. \n",
    "\n",
    "WOW FACTOR:\n",
    "Reason: Cool light mode switch"
   ]
  },
  {
   "cell_type": "markdown",
   "metadata": {},
   "source": [
    "Drishya's Group, CSA Period 4, Weather Project\n",
    "\n",
    "Frontend - Yes\n",
    "\n",
    "Backend - Yes\n",
    "\n",
    "API - Yes\n",
    "\n",
    "Agile - Yes\n",
    "\n",
    "HOOK: 3.8\n",
    "Score Range: 3.6-4.0\n",
    "\n",
    "Rationale: The hook is quite engaging, offering a multifaceted approach to weather reporting by including various elements such as wind speed, temperature, and precipitation.\n",
    "\n",
    "KNOWLEDGE: 3.8\n",
    "Score Range: 3.6-4.0\n",
    "\n",
    "Rationale: It demonstrates a solid understanding of coding principles, particularly in how they apply to the interoperability of front-end and back-end systems.\n",
    "\n",
    "VALUE: 0.9\n",
    "Score Range: 0.6-1.0\n",
    "\n",
    "Rationale: It is highly relevant for real-world applications, providing consistent updates with precise and current weather information.\n",
    "\n",
    "WOW FACTOR:\n",
    "Rationale: The dynamic update of images based on location and temperature changes, which reflect conditions like sunny, cloudy, or partly cloudy skies, is particularly impressive.\n",
    "\n",
    "Overall Score: 8.5/9"
   ]
  },
  {
   "cell_type": "markdown",
   "metadata": {},
   "source": [
    "Clash Royale CSA Period 4 Beijan's Group\n",
    "\n",
    "Frontend - Yes\n",
    "\n",
    "Backend - Yes\n",
    "\n",
    "API - Yes\n",
    "\n",
    "Agile - Yes\n",
    "\n",
    "HOOK: 3.7\n",
    "Points: 3.6-4.0\n",
    "\n",
    "Reason: It has pretty good engagement with the the people as they were very enthusiastic although the website was not extremely appealing as it lacked a lot of styling.\n",
    "\n",
    "KNOWLEDGE: 3.6\n",
    "Points: 3.6-4.0\n",
    "\n",
    "Reason: Knows the basic parts of how everything works and can kind of explain functionality of it.\n",
    "\n",
    "VALUE: 0.6\n",
    "Points: 0.6-1.0\n",
    "\n",
    "Reason: Not at all useful for real world and has minimal use for even people who play clash royale.\n",
    "\n",
    "WOW FACTOR:\n",
    "Reason: One cool thing was that the search function did not require full word.\n",
    "\n"
   ]
  }
 ],
 "metadata": {
  "kernelspec": {
   "display_name": "Java",
   "language": "java",
   "name": "java"
  },
  "language_info": {
   "name": "java"
  },
  "orig_nbformat": 4
 },
 "nbformat": 4,
 "nbformat_minor": 2
}
