{
 "cells": [
  {
   "cell_type": "markdown",
   "metadata": {},
   "source": [
    "# For Loops"
   ]
  },
  {
   "cell_type": "code",
   "execution_count": 27,
   "metadata": {},
   "outputs": [
    {
     "name": "stdout",
     "output_type": "stream",
     "text": [
      "i = 0\n",
      "i = 1\n",
      "i = 2\n",
      "i = 3\n",
      "i = 4\n",
      "i = 5\n",
      "i = 6\n",
      "i = 7\n",
      "i = 8\n",
      "i = 9\n",
      "i = 10\n"
     ]
    }
   ],
   "source": [
    "public class ExampleIf {\n",
    "    public static void main(String[] args) {\n",
    "        // for(initial value; condition; increment/decrement)\n",
    "        for(int i = 0; i <= 10; i++){\n",
    "            System.out.println(\"i = \" + i);\n",
    "        }\n",
    "    }\n",
    "}\n",
    "ExampleIf.main(null)"
   ]
  },
  {
   "cell_type": "markdown",
   "metadata": {},
   "source": [
    "# While loops"
   ]
  },
  {
   "cell_type": "code",
   "execution_count": 32,
   "metadata": {},
   "outputs": [
    {
     "name": "stdout",
     "output_type": "stream",
     "text": [
      "X = -10\n",
      "X = -9\n",
      "X = -8\n",
      "X = -7\n",
      "X = -6\n",
      "X = -5\n",
      "X = -4\n",
      "X = -3\n",
      "X = -2\n",
      "X = -1\n",
      "X = 0\n"
     ]
    }
   ],
   "source": [
    "public class ExampleIf1 {\n",
    "    public static void main(String[] args) {\n",
    "        int x = -10;\n",
    "\n",
    "        while(x<=0){\n",
    "            System.out.println(\"X = \" + x);\n",
    "            x++;\n",
    "        }\n",
    "        }\n",
    "    }\n",
    "\n",
    "ExampleIf1.main(null)"
   ]
  },
  {
   "cell_type": "markdown",
   "metadata": {},
   "source": [
    "# Do while loop"
   ]
  },
  {
   "cell_type": "code",
   "execution_count": 38,
   "metadata": {},
   "outputs": [
    {
     "name": "stdout",
     "output_type": "stream",
     "text": [
      "x = 10\n",
      "x = 9\n",
      "x = 8\n",
      "x = 7\n",
      "x = 6\n",
      "x = 5\n",
      "x = 4\n",
      "x = 3\n",
      "x = 2\n",
      "x = 1\n"
     ]
    }
   ],
   "source": [
    "public class ExampleIf2 {\n",
    "    public static void main(String[] args) {\n",
    "        int x = 10;\n",
    "\n",
    "        do{  // first does this \"do\" and then checks it, so if int x = -10, it still just prints -10\n",
    "            System.out.println(\"x = \" + x);\n",
    "            x--;\n",
    "        }while(x>0);\n",
    "\n",
    "    }\n",
    "}\n",
    "\n",
    "ExampleIf2.main(null)"
   ]
  },
  {
   "cell_type": "markdown",
   "metadata": {},
   "source": [
    "# Arrays"
   ]
  },
  {
   "cell_type": "code",
   "execution_count": 61,
   "metadata": {},
   "outputs": [
    {
     "name": "stdout",
     "output_type": "stream",
     "text": [
      "10\n",
      "20\n",
      "30\n",
      "40\n",
      "50\n",
      "------ FUCKIN NIGGERS -----\n",
      "0\n",
      "0\n",
      "0\n",
      "0\n",
      "25\n"
     ]
    }
   ],
   "source": [
    "public class ExampleIf3 {\n",
    "    public static void main(String[] args) {\n",
    "        int[] a = {10,20,30,40,50};\n",
    "\n",
    "    // System.out.println(a[1] + \" \" + a[4]);\n",
    "    \n",
    "    //enhanced for\n",
    "    for(int temp : a) {\n",
    "        System.out.println(temp);\n",
    "    }\n",
    "\n",
    "    System.out.println(\"-----------\");\n",
    "    int[] x = new int[5];\n",
    "    x[4] = 25;\n",
    "\n",
    "    for (int temp2 : x) {\n",
    "        System.out.println(temp2);\n",
    "    }\n",
    "\n",
    "\n",
    "\n",
    "\n",
    "\n",
    "\n",
    "\n",
    "\n",
    "\n",
    "    }\n",
    "\n",
    "}\n",
    "\n",
    "ExampleIf3.main(null)"
   ]
  },
  {
   "cell_type": "markdown",
   "metadata": {},
   "source": [
    "# 2d Arrays"
   ]
  },
  {
   "cell_type": "code",
   "execution_count": 67,
   "metadata": {},
   "outputs": [
    {
     "name": "stdout",
     "output_type": "stream",
     "text": [
      "10 10 10 \n",
      "10 10 10 \n",
      "10 10 10 \n",
      "10 10 10 \n"
     ]
    }
   ],
   "source": [
    "public class ExampleIf3 {\n",
    "    public static void main(String[] args) {\n",
    "        int[][] TwoDim = new int[4][3];\n",
    "\n",
    "        TwoDim[2][1] = 10;\n",
    "\n",
    "\n",
    "        int temp = 10;\n",
    "\n",
    "        for(int i = 0; i<4; i++){\n",
    "            for(int j=0; j<3; j++){\n",
    "\n",
    "                TwoDim[i][j] = temp;\n",
    "                System.out.print(TwoDim[i][j] + \" \" );\n",
    "\n",
    "            }\n",
    "            System.out.println();\n",
    "\n",
    "        }\n",
    "\n",
    "\n",
    "\n",
    "\n",
    "\n",
    "\n",
    "    }\n",
    "\n",
    "}\n",
    "\n",
    "ExampleIf3.main(null)"
   ]
  }
 ],
 "metadata": {
  "kernelspec": {
   "display_name": "Java",
   "language": "java",
   "name": "java"
  },
  "language_info": {
   "codemirror_mode": "java",
   "file_extension": ".jshell",
   "mimetype": "text/x-java-source",
   "name": "java",
   "pygments_lexer": "java",
   "version": "21.0.1+12-LTS-29"
  },
  "orig_nbformat": 4
 },
 "nbformat": 4,
 "nbformat_minor": 2
}
