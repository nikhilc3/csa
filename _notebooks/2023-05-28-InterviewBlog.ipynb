{
 "cells": [
  {
   "cell_type": "markdown",
   "metadata": {},
   "source": [
    "---\n",
    "layout: default\n",
    "title: Final Interview\n",
    "type: hacks\n",
    "courses: { 'csa': {'week':36} }  \n",
    "comments: true\n",
    "---"
   ]
  },
  {
   "cell_type": "markdown",
   "metadata": {},
   "source": [
    "# Individual Blog"
   ]
  },
  {
   "cell_type": "markdown",
   "metadata": {},
   "source": [
    "[Individual Github Stats](https://github.com/nikhilc3?tab=overview&from=2024-06-01&to=2024-06-01)\n",
    "\n",
    "[Linkedin](https://www.linkedin.com/in/nikhil-chakravarthula-17150b293/)"
   ]
  },
  {
   "cell_type": "markdown",
   "metadata": {},
   "source": [
    "## Machine Learning Reference\n",
    "\n",
    "[Research Presentation](https://docs.google.com/presentation/d/1hl94mjqE2y1COjyWLGxZCXwx8kZdpAXP2jP6XqJpVLU/edit#slide=id.p)\n",
    "\n",
    "[Research Paper](https://docs.google.com/document/d/1OoBikVUqbcGZvHUpvE8YNarRHqayZGbM77yHyI7fFz0/edit#heading=h.nil6eol17y)"
   ]
  },
  {
   "cell_type": "markdown",
   "metadata": {},
   "source": [
    "## Favorite Projects 1\n",
    "\n",
    "### Fibonacci Timing and Sorting Timing Incorporated with Racing/Sports events:\n",
    "\n",
    "Frontend: https://github.com/Code-Demons/miniproject\n",
    "\n",
    "Backend: https://github.com/Code-Demons/miniproject_backend\n",
    "\n",
    "### Full stack development Demo & Code Overview\n",
    "\n",
    "[![Loom Video](https://cdn.loom.com/sessions/thumbnails/23881a9a9dd04ecda871d37e0e3683e7-with-play.gif)](https://www.loom.com/share/23881a9a9dd04ecda871d37e0e3683e7?sid=3fa31d31-8589-48fc-95e7-7f2d48c65198)\n",
    "\n",
    "\n",
    "\n",
    "\n"
   ]
  },
  {
   "cell_type": "markdown",
   "metadata": {},
   "source": [
    "## Favorite Project #2\n",
    "\n",
    "### Bitlife Overview:\n",
    "Created a similar simulation to bitlife with full stack developement. User can choose to be a farmer or basketball player and has to choose certain decisions. With each decision they gain a certain amount of money and once their lives end their score(total amount of money ended with) is placed on a leaderboard.\n",
    "\n",
    "Frontend: https://github.com/Del-Norte-Farmers-Iowa-Hawkeyes-Fanclub/IHF-Project-Frontend\n",
    "\n",
    "Backend: https://github.com/Del-Norte-Farmers-Iowa-Hawkeyes-Fanclub/IHF-Database\n",
    "\n",
    "# Database Demo\n",
    "![Screenshot 2024-06-01 at 10 47 55 PM](https://github.com/nikhilc3/csa/assets/111464993/296125fb-c802-4e9b-9546-41f804e2eee7)\n",
    "\n",
    "![Screenshot 2024-06-01 at 10 48 11 PM](https://github.com/nikhilc3/csa/assets/111464993/61d208ce-d0ef-4cf5-8c23-f2f8a7b0352f)\n",
    "\n",
    "![Screenshot 2024-06-01 at 10 48 20 PM](https://github.com/nikhilc3/csa/assets/111464993/e238a2a4-39cf-4199-9638-ebb4c9164045)\n",
    "\n"
   ]
  },
  {
   "cell_type": "markdown",
   "metadata": {},
   "source": [
    "## Favorite Project #3\n",
    "\n",
    "Made a Research paper for Predicting Future Stock Returns: A Comparison Between Linear Regression and Random Forest Models. Worked with a University of Columbia professor, professor Hirsa.\n",
    "\n",
    "R Coding may not be that helpful in this situation for the internship but the logic applies the same for machine learning. \n",
    "\n",
    "[Research Presentation](https://docs.google.com/presentation/d/1hl94mjqE2y1COjyWLGxZCXwx8kZdpAXP2jP6XqJpVLU/edit#slide=id.p)\n",
    "\n",
    "[Research Paper](https://docs.google.com/document/d/1OoBikVUqbcGZvHUpvE8YNarRHqayZGbM77yHyI7fFz0/edit#heading=h.nil6eol17y)\n",
    "\n",
    "\n",
    "\n"
   ]
  },
  {
   "cell_type": "markdown",
   "metadata": {},
   "source": [
    "# Events I participated in\n",
    "\n",
    "## Night of the Musuem(5/29):\n",
    "\n",
    "![Screenshot 2024-06-01 at 10 59 54 PM](https://github.com/nikhilc3/csa/assets/111464993/d5db901c-92f4-4726-b4a7-998539fca55d)\n",
    "<img width=\"1007\" alt=\"Screenshot 2024-06-01 at 11 03 05 PM\" src=\"https://github.com/nikhilc3/csa/assets/111464993/0548762f-53a7-4752-bee2-ed72c427d8c0\">\n",
    "<img width=\"307\" alt=\"Screenshot 2024-06-01 at 11 03 38 PM\" src=\"https://github.com/nikhilc3/csa/assets/111464993/0d6dc87f-d6b4-4767-950e-73cea2397598\">\n",
    "<img width=\"1031\" alt=\"Screenshot 2024-06-01 at 11 04 38 PM\" src=\"https://github.com/nikhilc3/csa/assets/111464993/fed1520e-fcd2-4a38-a0ee-51b0d2cd9ff6\">\n",
    "\n",
    "\n",
    "### Reflection on Demos/Presentations (Night at Musuem 2/16):\n",
    "\n",
    "#### Areas for Improvement:\n",
    "- Our presentation consistency was lacking, leading to some features not being shown to everyone.\n",
    "- The project did not engage adults as much as expected. Making it more technical might capture their interest.\n",
    "- Some attendees disengaged during presentations. Having drafts selected by two people on separate screens might prevent this.\n",
    "\n",
    "#### Positive Aspects:\n",
    "- The project was especially appealing to teenagers and caught the attention of many.\n",
    "- Our presentation skills were strong, keeping the audience engaged throughout.\n",
    "- The project had an engaging hook and good planning, attracting many people to our presentation. Our team worked well together, with some members drawing in the crowd and others excelling at presenting.\n",
    "\n",
    "\n",
    "Visuals of people we talked to:\n",
    "![IMG_5563](https://github.com/nikhilc3/csa/assets/111464993/cbb01a0c-ee3f-4d57-851a-62cf89377809)\n",
    "\n",
    "![IMG_5559](https://github.com/nikhilc3/csa/assets/111464993/17436079-d3dd-403b-8397-614b8bd36216)\n",
    "\n",
    "\n",
    "![IMG_5556](https://github.com/nikhilc3/csa/assets/111464993/615801c1-c632-47b6-a705-eb4cd4973ac0)\n",
    "\n",
    "\n",
    "<br>\n",
    "<br>\n",
    "<br>\n",
    "\n",
    "\n",
    "1. Something you saw in CompSci that impressed:\n",
    "A project that really caught my attention was in the CSSE section. The project they made fascinated me and caught my attention, as to how begginers can. really work together and create something super interactive and fun. They made a Super Mario game that you could play with others at the same time. The game was fun to play, the controls were simple, and it looked great. Plus, there was a scoreboard where you could see how you did compared to your friends, which was really neat. It looked very well-made and was quite impressive. They were able to explain a little bit of how the code works but not too much, but it was an extremely well done project overall. Definitely looking to take the class after CSA, to keep on having coding in my high school classes.\n",
    "\n",
    "![IMG_5567](https://github.com/nikhilc3/csa/assets/111464993/20e97ebf-f018-4633-80bf-2992b6ce464a)\n",
    "\n",
    "\n",
    "<br>\n",
    "<br>\n",
    "<br>\n",
    "\n",
    "2. Something you saw outside of CSA:\n",
    "![IMG_5570](https://github.com/nikhilc3/csa/assets/111464993/8d4639a7-9465-4f02-8262-1b2f5f48dac7)\n",
    "I though tthis was very artistici as how they were able to draw this with such accuracy to a supercar. The trees in the background also add a good artistic effect, and the bushes in the background too. The car looks perfectly 3d like its standing on a road and it looks very visually appealing. Very good drawing overall. \n",
    "\n",
    "\n",
    "\n",
    "\n",
    "\n",
    "\n",
    "\n",
    "## Tangibles\n",
    "- Our preformance video:\n",
    "  - [VIDEO](https://www.youtube.com/watch?v=-2_5y01plFk)\n",
    "\n",
    "\n",
    "### Our Successes:\n",
    "- Score Breakdown was pretty good as it was a 9 in every category:\n",
    "  - Algorithm Accuracy was a 9\n",
    "  - Career Ready was a 9\n",
    "  - Career / College Juggling: 9\n",
    "  - College Ready was a 9\n",
    "  - Impression was a 9\n",
    "  - Total: 45/50\n",
    "\n",
    "\n",
    "\n",
    "### Improvements to bring up to 10\n",
    "  - The judges told us that our costumes were too hard to see, like the piece of papers representing the sorting and that is a very true point as it is a little hard to understand the sort without seeing the numbers which is a crucial part of it. \n",
    "  - Audience was jumbled up with too many things so probably kept it more clear and straight forward and concise.\n",
    "  \n",
    "\n",
    "### Challenges:\n",
    "  - One big challenge was the time conflicting schedules, like one day I could not show up to practice as I was sick, although I had made it up by joining a call and catching up with Tirth and everyone\n",
    "\n",
    "### Future Presentations/plays:\n",
    "  - Make demonstrations more visible\n",
    "  - Manage practices and time more effecient by giving days of notice and seeing if everyone is available\n",
    "  - More clarity in the speach \n",
    "  - Being more concise in a presentation is key not just in this but in anything"
   ]
  }
 ],
 "metadata": {
  "language_info": {
   "name": "python"
  },
  "orig_nbformat": 4
 },
 "nbformat": 4,
 "nbformat_minor": 2
}
